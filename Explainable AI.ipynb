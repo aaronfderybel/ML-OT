{
 "cells": [
  {
   "cell_type": "markdown",
   "id": "c7f836da-a12d-4ca5-901f-0eb35e87c901",
   "metadata": {},
   "source": [
    "# Explainable AI\n"
   ]
  },
  {
   "cell_type": "markdown",
   "id": "aa942a33-0886-4e78-aa0d-efe70e5b4c1a",
   "metadata": {},
   "source": [
    "## Scenario 1"
   ]
  },
  {
   "cell_type": "code",
   "execution_count": 6,
   "id": "7fc1e0ef-4e26-4e85-87b3-5bbce2e273b3",
   "metadata": {},
   "outputs": [],
   "source": [
    "#inladen data en getrained model\n",
    "import pickle\n",
    "with open(\"cache/data.pkl\",\"rb\") as f:\n",
    "    dataset = pickle.load(f)\n",
    "\n",
    "with open(\"cache/model.pkl\", \"rb\") as f:\n",
    "    model = pickle.load(f)"
   ]
  },
  {
   "cell_type": "code",
   "execution_count": 7,
   "id": "51b2c08c-b395-435c-b66f-dfb5d2df6bac",
   "metadata": {},
   "outputs": [],
   "source": [
    "import shap\n",
    "import numpy as np\n",
    "\n",
    "clf = model.model\n",
    "explainer = shap.Explainer(clf, dataset.x_train)\n",
    "values = explainer.shap_values(dataset.x_train)"
   ]
  },
  {
   "cell_type": "markdown",
   "id": "880f47ba-83cf-45cb-b999-02ba0d7ae397",
   "metadata": {},
   "source": [
    "### Normale traffiek\n",
    "Belangrijkste inputs voor het model om normale traffiek te voorspellen staan in het **blauw**.\\\n",
    "Inputs voor het model om abnormale traffiek te voorspellen staan in het **rood**.\n",
    "\n",
    "De belangrijkste inputs zijn hier\n",
    "\n",
    "- Frame.len: hoeveelheid data verstuurd\n",
    "- packets_per_min: aantal berichten in de afgelopen minuut"
   ]
  },
  {
   "cell_type": "code",
   "execution_count": 8,
   "id": "6656095a-9839-4afb-b729-d8e75af5444b",
   "metadata": {},
   "outputs": [
    {
     "data": {
      "text/html": [
       "\n",
       "<div id='iVGSAPSH3GR1LCZSQ7Q2C'>\n",
       "<div style='color: #900; text-align: center;'>\n",
       "  <b>Visualization omitted, Javascript library not loaded!</b><br>\n",
       "  Have you run `initjs()` in this notebook? If this notebook was from another\n",
       "  user you must also trust this notebook (File -> Trust notebook). If you are viewing\n",
       "  this notebook on github the Javascript has been stripped for security. If you are using\n",
       "  JupyterLab this error is because a JupyterLab extension has not yet been written.\n",
       "</div></div>\n",
       " <script>\n",
       "   if (window.SHAP) SHAP.ReactDom.render(\n",
       "    SHAP.React.createElement(SHAP.AdditiveForceVisualizer, {\"outNames\": [\"f(x)\"], \"baseValue\": 0.209, \"outValue\": -5.759298815632974e-09, \"link\": \"identity\", \"featureNames\": [\"frame.len\", \"packets_per_min\", \"packets_per_sec\", \"max_packets\", \"min_packets\", \"mean_packets\", \"packets_per_ip.dst\", \"SYN\", \"ACK\", \"FIN\", \"PSH\"], \"features\": {\"0\": {\"effect\": -0.10711667007824871, \"value\": 95.0}, \"1\": {\"effect\": -0.07346389219746925, \"value\": 12.0}, \"2\": {\"effect\": -0.010228571348125114, \"value\": 10.0}, \"3\": {\"effect\": -0.018701190593419598, \"value\": 10.0}, \"4\": {\"effect\": -0.0031511905789375306, \"value\": 0.0}, \"5\": {\"effect\": -0.020413094675168397, \"value\": 5.0}, \"6\": {\"effect\": -0.0072609125776216385, \"value\": 4.0}, \"7\": {\"effect\": -0.0015547619626158848, \"value\": 0.0}, \"8\": {\"effect\": -0.021038294277968817, \"value\": 1.0}, \"9\": {\"effect\": -0.0018011906219180674, \"value\": 0.0}, \"10\": {\"effect\": 0.05572976315219421, \"value\": 1.0}}, \"plot_cmap\": \"RdBu\", \"labelMargin\": 20}),\n",
       "    document.getElementById('iVGSAPSH3GR1LCZSQ7Q2C')\n",
       "  );\n",
       "</script>"
      ],
      "text/plain": [
       "<shap.plots._force.AdditiveForceVisualizer at 0x7f53148df0a0>"
      ]
     },
     "metadata": {},
     "output_type": "display_data"
    }
   ],
   "source": [
    "#voorbeeld van normale trafiek\n",
    "display(shap.force_plot(explainer.expected_value[1], values[1][10,:], dataset.x_train.iloc[10,:]))"
   ]
  },
  {
   "cell_type": "markdown",
   "id": "be42cc90-66a0-4a17-8b57-4f801274aeae",
   "metadata": {},
   "source": [
    "### Scan\n",
    "Eerst wordt er een scan uitgevoerd om te bepalen welke modbus devices op het netwerk zitten en wat hun bijbehorende IP adres is.\\\n",
    "Zo weet de hacker welke devices mogelijks een vulnerability hebben.\n",
    "\n",
    "De inputs voor het model die leiden tot het voorspellen van een aanval zijn hier in het **rood** weergegeven."
   ]
  },
  {
   "cell_type": "code",
   "execution_count": 9,
   "id": "d4706fc4-ba33-4b10-b6e8-a78237955047",
   "metadata": {},
   "outputs": [
    {
     "name": "stdout",
     "output_type": "stream",
     "text": [
      "## row number: 341\n"
     ]
    },
    {
     "data": {
      "text/html": [
       "\n",
       "<div id='i7CM4LEMTHVRS4GMR50AH'>\n",
       "<div style='color: #900; text-align: center;'>\n",
       "  <b>Visualization omitted, Javascript library not loaded!</b><br>\n",
       "  Have you run `initjs()` in this notebook? If this notebook was from another\n",
       "  user you must also trust this notebook (File -> Trust notebook). If you are viewing\n",
       "  this notebook on github the Javascript has been stripped for security. If you are using\n",
       "  JupyterLab this error is because a JupyterLab extension has not yet been written.\n",
       "</div></div>\n",
       " <script>\n",
       "   if (window.SHAP) SHAP.ReactDom.render(\n",
       "    SHAP.React.createElement(SHAP.AdditiveForceVisualizer, {\"outNames\": [\"f(x)\"], \"baseValue\": 0.209, \"outValue\": 1.0000000213992317, \"link\": \"identity\", \"featureNames\": [\"frame.len\", \"packets_per_min\", \"packets_per_sec\", \"max_packets\", \"min_packets\", \"mean_packets\", \"packets_per_ip.dst\", \"SYN\", \"ACK\", \"FIN\", \"PSH\"], \"features\": {\"0\": {\"effect\": 0.0774616111483192, \"value\": 66.0}, \"1\": {\"effect\": 0.001799305552849546, \"value\": 270.0}, \"2\": {\"effect\": 0.09997589126229287, \"value\": 28.0}, \"3\": {\"effect\": 0.2467451480863383, \"value\": 28.0}, \"5\": {\"effect\": 0.1583217266589054, \"value\": 14.0}, \"6\": {\"effect\": 0.03327351421117783, \"value\": 4.0}, \"7\": {\"effect\": 0.05385208533814875, \"value\": 1.0}, \"8\": {\"effect\": 0.12647431017598137, \"value\": 0.0}, \"9\": {\"effect\": 0.0013166667404584586, \"value\": 0.0}, \"10\": {\"effect\": -0.008220237775240093, \"value\": 0.0}}, \"plot_cmap\": \"RdBu\", \"labelMargin\": 20}),\n",
       "    document.getElementById('i7CM4LEMTHVRS4GMR50AH')\n",
       "  );\n",
       "</script>"
      ],
      "text/plain": [
       "<shap.plots._force.AdditiveForceVisualizer at 0x7f5314894d60>"
      ]
     },
     "metadata": {},
     "output_type": "display_data"
    }
   ],
   "source": [
    "y = dataset.y_train\n",
    "attack_rows = y.index[y.label==1].tolist()\n",
    "normal_rows = y.index[y.label==0].tolist()\n",
    "\n",
    "#ARP scan\n",
    "idx = attack_rows[5]\n",
    "print(f\"## row number: {idx}\")\n",
    "display(shap.force_plot(explainer.expected_value[1], values[1][idx,:], dataset.x_train.iloc[idx,:]))"
   ]
  },
  {
   "cell_type": "markdown",
   "id": "2b38ea6f-635b-4aa5-aab8-e88aa771df5f",
   "metadata": {},
   "source": [
    "### Uitlezen registers\n",
    "Vervolgens worden alle registers van een specifiek modbus device uitgelezen. Andere input waardes zijn van belang hier."
   ]
  },
  {
   "cell_type": "code",
   "execution_count": 10,
   "id": "c70fc19b-2ad1-4019-82da-1e0569f2c7ee",
   "metadata": {},
   "outputs": [
    {
     "name": "stdout",
     "output_type": "stream",
     "text": [
      "## row number: 2466\n"
     ]
    },
    {
     "data": {
      "text/html": [
       "\n",
       "<div id='iS50MJK6LZEO7QMXWYSNL'>\n",
       "<div style='color: #900; text-align: center;'>\n",
       "  <b>Visualization omitted, Javascript library not loaded!</b><br>\n",
       "  Have you run `initjs()` in this notebook? If this notebook was from another\n",
       "  user you must also trust this notebook (File -> Trust notebook). If you are viewing\n",
       "  this notebook on github the Javascript has been stripped for security. If you are using\n",
       "  JupyterLab this error is because a JupyterLab extension has not yet been written.\n",
       "</div></div>\n",
       " <script>\n",
       "   if (window.SHAP) SHAP.ReactDom.render(\n",
       "    SHAP.React.createElement(SHAP.AdditiveForceVisualizer, {\"outNames\": [\"f(x)\"], \"baseValue\": 0.209, \"outValue\": 1.000000029479037, \"link\": \"identity\", \"featureNames\": [\"frame.len\", \"packets_per_min\", \"packets_per_sec\", \"max_packets\", \"min_packets\", \"mean_packets\", \"packets_per_ip.dst\", \"SYN\", \"ACK\", \"FIN\", \"PSH\"], \"features\": {\"0\": {\"effect\": 0.13000000494299457, \"value\": 83.0}, \"1\": {\"effect\": 0.2797428643878084, \"value\": 294.0}, \"2\": {\"effect\": 0.061740479404106735, \"value\": 10.0}, \"3\": {\"effect\": 0.09909583780216052, \"value\": 10.0}, \"4\": {\"effect\": -0.0009428571350872517, \"value\": 0.0}, \"5\": {\"effect\": 0.031034526510629802, \"value\": 5.0}, \"6\": {\"effect\": 0.04349583570030518, \"value\": 4.0}, \"7\": {\"effect\": -0.0024904761207289994, \"value\": 0.0}, \"8\": {\"effect\": -0.009183333379914983, \"value\": 1.0}, \"9\": {\"effect\": 0.005790476491674781, \"value\": 0.0}, \"10\": {\"effect\": 0.1527166708750883, \"value\": 1.0}}, \"plot_cmap\": \"RdBu\", \"labelMargin\": 20}),\n",
       "    document.getElementById('iS50MJK6LZEO7QMXWYSNL')\n",
       "  );\n",
       "</script>"
      ],
      "text/plain": [
       "<shap.plots._force.AdditiveForceVisualizer at 0x7f5314919970>"
      ]
     },
     "metadata": {},
     "output_type": "display_data"
    }
   ],
   "source": [
    "#poorten modbus uitlezen\n",
    "idx = attack_rows[90]\n",
    "print(f\"## row number: {idx}\")\n",
    "display(shap.force_plot(explainer.expected_value[1], values[1][idx,:], dataset.x_train.iloc[idx,:]))"
   ]
  },
  {
   "cell_type": "markdown",
   "id": "c7615d8a-823d-4410-8ed3-413c23bc2302",
   "metadata": {},
   "source": [
    "### Aanpassen registers\n",
    "Vervolgens worden er een aantal registers overschreven door de aanvaller, opnieuw zien we dat andere input waardes van belang zijn hier."
   ]
  },
  {
   "cell_type": "code",
   "execution_count": 11,
   "id": "61293c6c-b380-410a-bd90-44c83155323e",
   "metadata": {},
   "outputs": [
    {
     "name": "stdout",
     "output_type": "stream",
     "text": [
      "## row number: 3220\n"
     ]
    },
    {
     "data": {
      "text/html": [
       "\n",
       "<div id='iIQWHH7G5TSCTXE6S5IPH'>\n",
       "<div style='color: #900; text-align: center;'>\n",
       "  <b>Visualization omitted, Javascript library not loaded!</b><br>\n",
       "  Have you run `initjs()` in this notebook? If this notebook was from another\n",
       "  user you must also trust this notebook (File -> Trust notebook). If you are viewing\n",
       "  this notebook on github the Javascript has been stripped for security. If you are using\n",
       "  JupyterLab this error is because a JupyterLab extension has not yet been written.\n",
       "</div></div>\n",
       " <script>\n",
       "   if (window.SHAP) SHAP.ReactDom.render(\n",
       "    SHAP.React.createElement(SHAP.AdditiveForceVisualizer, {\"outNames\": [\"f(x)\"], \"baseValue\": 0.209, \"outValue\": 1.0000000235852202, \"link\": \"identity\", \"featureNames\": [\"frame.len\", \"packets_per_min\", \"packets_per_sec\", \"max_packets\", \"min_packets\", \"mean_packets\", \"packets_per_ip.dst\", \"SYN\", \"ACK\", \"FIN\", \"PSH\"], \"features\": {\"0\": {\"effect\": 0.12951111523638248, \"value\": 60.0}, \"1\": {\"effect\": 0.03274821620609145, \"value\": 550.0}, \"2\": {\"effect\": 0.04132440244022291, \"value\": 86.0}, \"3\": {\"effect\": 0.1597355242478079, \"value\": 86.0}, \"4\": {\"effect\": 0.04435833586845547, \"value\": 20.0}, \"5\": {\"effect\": 0.17187381107069086, \"value\": 48.63636363636363}, \"6\": {\"effect\": 0.21436766533646734, \"value\": 38.0}, \"7\": {\"effect\": -0.0037662699655629695, \"value\": 0.0}, \"8\": {\"effect\": -0.012262699005659669, \"value\": 1.0}, \"9\": {\"effect\": 0.015034921507758554, \"value\": 1.0}, \"10\": {\"effect\": -0.0019249993574339897, \"value\": 0.0}}, \"plot_cmap\": \"RdBu\", \"labelMargin\": 20}),\n",
       "    document.getElementById('iIQWHH7G5TSCTXE6S5IPH')\n",
       "  );\n",
       "</script>"
      ],
      "text/plain": [
       "<shap.plots._force.AdditiveForceVisualizer at 0x7f53149198b0>"
      ]
     },
     "metadata": {},
     "output_type": "display_data"
    }
   ],
   "source": [
    "#data registers overschrijven\n",
    "idx = attack_rows[400]\n",
    "print(f\"## row number: {idx}\")\n",
    "display(shap.force_plot(explainer.expected_value[1], values[1][idx,:], dataset.x_train.iloc[idx,:]))"
   ]
  },
  {
   "cell_type": "markdown",
   "id": "0bb74989-a0f6-4c0a-ac53-007c4c33f422",
   "metadata": {},
   "source": [
    "### Uitlezen registers\n",
    "Tenslott worden de registers een laatste maal uitgelezen"
   ]
  },
  {
   "cell_type": "code",
   "execution_count": 12,
   "id": "35214b03-814b-4f46-9a4b-9a1033995fb5",
   "metadata": {},
   "outputs": [
    {
     "name": "stdout",
     "output_type": "stream",
     "text": [
      "## row number: 3697\n"
     ]
    },
    {
     "data": {
      "text/html": [
       "\n",
       "<div id='iVY5AEY37VRP2KKZMW29G'>\n",
       "<div style='color: #900; text-align: center;'>\n",
       "  <b>Visualization omitted, Javascript library not loaded!</b><br>\n",
       "  Have you run `initjs()` in this notebook? If this notebook was from another\n",
       "  user you must also trust this notebook (File -> Trust notebook). If you are viewing\n",
       "  this notebook on github the Javascript has been stripped for security. If you are using\n",
       "  JupyterLab this error is because a JupyterLab extension has not yet been written.\n",
       "</div></div>\n",
       " <script>\n",
       "   if (window.SHAP) SHAP.ReactDom.render(\n",
       "    SHAP.React.createElement(SHAP.AdditiveForceVisualizer, {\"outNames\": [\"f(x)\"], \"baseValue\": 0.209, \"outValue\": 1.000000005917158, \"link\": \"identity\", \"featureNames\": [\"frame.len\", \"packets_per_min\", \"packets_per_sec\", \"max_packets\", \"min_packets\", \"mean_packets\", \"packets_per_ip.dst\", \"SYN\", \"ACK\", \"FIN\", \"PSH\"], \"features\": {\"0\": {\"effect\": 0.06987837572320131, \"value\": 66.0}, \"1\": {\"effect\": 0.06677599381364416, \"value\": 924.0}, \"2\": {\"effect\": 0.1164974185609026, \"value\": 118.0}, \"3\": {\"effect\": 0.16978016436623874, \"value\": 118.0}, \"4\": {\"effect\": 0.0020000000298023225, \"value\": 0.0}, \"5\": {\"effect\": 0.13686289283563383, \"value\": 58.94166666666667}, \"6\": {\"effect\": 0.19734682776092086, \"value\": 52.0}, \"7\": {\"effect\": -0.0072809527342906225, \"value\": 0.0}, \"8\": {\"effect\": -0.009997619562782348, \"value\": 1.0}, \"9\": {\"effect\": 0.0012833334039896727, \"value\": 0.0}, \"10\": {\"effect\": 0.047853571719897445, \"value\": 1.0}}, \"plot_cmap\": \"RdBu\", \"labelMargin\": 20}),\n",
       "    document.getElementById('iVY5AEY37VRP2KKZMW29G')\n",
       "  );\n",
       "</script>"
      ],
      "text/plain": [
       "<shap.plots._force.AdditiveForceVisualizer at 0x7f5314923760>"
      ]
     },
     "metadata": {},
     "output_type": "display_data"
    }
   ],
   "source": [
    "#data registers uitlezen\n",
    "idx = attack_rows[-1]\n",
    "print(f\"## row number: {idx}\")\n",
    "display(shap.force_plot(explainer.expected_value[1], values[1][idx,:], dataset.x_train.iloc[idx,:]))"
   ]
  },
  {
   "cell_type": "markdown",
   "id": "398c4692-e9b5-4305-834b-aee607a5fd96",
   "metadata": {},
   "source": [
    "### Gemiddeld belang van input\n",
    "\n",
    "We kunnen kijken naar het gemiddeld belang van elke input over de hele dataset waar een ARP en NMAP scan plaatsvinden,\\\n",
    "alsook registers worden aangepast."
   ]
  },
  {
   "cell_type": "code",
   "execution_count": 7,
   "id": "e44351d1-2148-4dcb-9e06-453929a0d0c7",
   "metadata": {},
   "outputs": [
    {
     "data": {
      "image/png": "[encoded data removed]",
      "text/plain": [
       "<Figure size 800x590 with 1 Axes>"
      ]
     },
     "metadata": {},
     "output_type": "display_data"
    }
   ],
   "source": [
    "shap.summary_plot(values[1], dataset.x_train, class_names=model.get_class_names(), plot_type=\"bar\")"
   ]
  },
  {
   "cell_type": "code",
   "execution_count": null,
   "id": "01b1d844-92f7-4fc0-a46e-f8266f45627f",
   "metadata": {},
   "outputs": [],
   "source": []
  }
 ],
 "metadata": {
  "kernelspec": {
   "display_name": "Python (ML-OT)",
   "language": "python",
   "name": "env_mlot"
  },
  "language_info": {
   "codemirror_mode": {
    "name": "ipython",
    "version": 3
   },
   "file_extension": ".py",
   "mimetype": "text/x-python",
   "name": "python",
   "nbconvert_exporter": "python",
   "pygments_lexer": "ipython3",
   "version": "3.9.16"
  }
 },
 "nbformat": 4,
 "nbformat_minor": 5
}
